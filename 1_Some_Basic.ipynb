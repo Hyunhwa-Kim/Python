{
 "cells": [
  {
   "cell_type": "code",
   "execution_count": 5,
   "id": "f8efe96e-499e-46c7-8e21-73886dafa11c",
   "metadata": {
    "tags": []
   },
   "outputs": [],
   "source": [
    "a=1"
   ]
  },
  {
   "cell_type": "code",
   "execution_count": 6,
   "id": "31b4c6a6-19df-4286-9ff0-d66bfd5798e3",
   "metadata": {
    "tags": []
   },
   "outputs": [
    {
     "data": {
      "text/plain": [
       "True"
      ]
     },
     "execution_count": 6,
     "metadata": {},
     "output_type": "execute_result"
    }
   ],
   "source": [
    "isinstance(a, int)"
   ]
  },
  {
   "cell_type": "code",
   "execution_count": 10,
   "id": "8868d530-8bfb-4f0a-9973-b58eeb068ed9",
   "metadata": {
    "tags": []
   },
   "outputs": [],
   "source": [
    "a=\"Hello\""
   ]
  },
  {
   "cell_type": "code",
   "execution_count": 11,
   "id": "6ca11442-5d06-4673-92d9-d38267f0c076",
   "metadata": {
    "tags": []
   },
   "outputs": [
    {
     "data": {
      "text/plain": [
       "False"
      ]
     },
     "execution_count": 11,
     "metadata": {},
     "output_type": "execute_result"
    }
   ],
   "source": [
    "isinstance(a, int)"
   ]
  },
  {
   "cell_type": "code",
   "execution_count": 12,
   "id": "2badfcba-7c6e-4b0d-a63c-67a7f2cff878",
   "metadata": {
    "tags": []
   },
   "outputs": [
    {
     "data": {
      "text/plain": [
       "True"
      ]
     },
     "execution_count": 12,
     "metadata": {},
     "output_type": "execute_result"
    }
   ],
   "source": [
    "a==\"Hello\""
   ]
  },
  {
   "cell_type": "code",
   "execution_count": null,
   "id": "d64c02c5-332a-4069-9fd9-4391438409e5",
   "metadata": {},
   "outputs": [],
   "source": []
  }
 ],
 "metadata": {
  "kernelspec": {
   "display_name": "Python 3 (ipykernel)",
   "language": "python",
   "name": "python3"
  },
  "language_info": {
   "codemirror_mode": {
    "name": "ipython",
    "version": 3
   },
   "file_extension": ".py",
   "mimetype": "text/x-python",
   "name": "python",
   "nbconvert_exporter": "python",
   "pygments_lexer": "ipython3",
   "version": "3.11.4"
  }
 },
 "nbformat": 4,
 "nbformat_minor": 5
}
