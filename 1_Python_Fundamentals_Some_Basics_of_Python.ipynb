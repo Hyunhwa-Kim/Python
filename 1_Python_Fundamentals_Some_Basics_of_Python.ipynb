{
 "cells": [
  {
   "cell_type": "code",
   "execution_count": 2,
   "id": "3b60c0d3",
   "metadata": {},
   "outputs": [],
   "source": [
    "a=1"
   ]
  },
  {
   "cell_type": "code",
   "execution_count": 3,
   "id": "86678202",
   "metadata": {},
   "outputs": [
    {
     "data": {
      "text/plain": [
       "True"
      ]
     },
     "execution_count": 3,
     "metadata": {},
     "output_type": "execute_result"
    }
   ],
   "source": [
    "isinstance(a,int)"
   ]
  },
  {
   "cell_type": "code",
   "execution_count": 4,
   "id": "ed7c3a89",
   "metadata": {},
   "outputs": [],
   "source": [
    "a=\"Hello\""
   ]
  },
  {
   "cell_type": "code",
   "execution_count": 5,
   "id": "ccd8abec",
   "metadata": {},
   "outputs": [
    {
     "data": {
      "text/plain": [
       "False"
      ]
     },
     "execution_count": 5,
     "metadata": {},
     "output_type": "execute_result"
    }
   ],
   "source": [
    "isinstance(a,int)   "
   ]
  },
  {
   "cell_type": "code",
   "execution_count": 6,
   "id": "51c92c7d",
   "metadata": {},
   "outputs": [
    {
     "data": {
      "text/plain": [
       "True"
      ]
     },
     "execution_count": 6,
     "metadata": {},
     "output_type": "execute_result"
    }
   ],
   "source": [
    "a==\"Hello\""
   ]
  },
  {
   "cell_type": "code",
   "execution_count": 8,
   "id": "70b9a226",
   "metadata": {},
   "outputs": [
    {
     "data": {
      "text/plain": [
       "'This is a comment'"
      ]
     },
     "execution_count": 8,
     "metadata": {},
     "output_type": "execute_result"
    }
   ],
   "source": [
    "# This is a comment\n",
    "\"This is a comment\""
   ]
  },
  {
   "cell_type": "code",
   "execution_count": 11,
   "id": "17966ded",
   "metadata": {},
   "outputs": [
    {
     "data": {
      "text/plain": [
       "True"
      ]
     },
     "execution_count": 11,
     "metadata": {},
     "output_type": "execute_result"
    }
   ],
   "source": [
    "a=1\n",
    "isinstance(a,int)"
   ]
  },
  {
   "cell_type": "code",
   "execution_count": 13,
   "id": "55fc592b",
   "metadata": {},
   "outputs": [
    {
     "data": {
      "text/plain": [
       "False"
      ]
     },
     "execution_count": 13,
     "metadata": {},
     "output_type": "execute_result"
    }
   ],
   "source": [
    "isinstance(a,float)"
   ]
  },
  {
   "cell_type": "code",
   "execution_count": 14,
   "id": "79e756d3",
   "metadata": {},
   "outputs": [
    {
     "data": {
      "text/plain": [
       "True"
      ]
     },
     "execution_count": 14,
     "metadata": {},
     "output_type": "execute_result"
    }
   ],
   "source": [
    "a=1.0\n",
    "isinstance(a,float)"
   ]
  },
  {
   "cell_type": "code",
   "execution_count": 15,
   "id": "cf1ef5c0",
   "metadata": {},
   "outputs": [
    {
     "data": {
      "text/plain": [
       "(1, 0, 0)"
      ]
     },
     "execution_count": 15,
     "metadata": {},
     "output_type": "execute_result"
    }
   ],
   "source": [
    "1,000,000"
   ]
  },
  {
   "cell_type": "code",
   "execution_count": 16,
   "id": "b09a678d",
   "metadata": {},
   "outputs": [
    {
     "data": {
      "text/plain": [
       "1000000"
      ]
     },
     "execution_count": 16,
     "metadata": {},
     "output_type": "execute_result"
    }
   ],
   "source": [
    "1_000_000"
   ]
  },
  {
   "cell_type": "code",
   "execution_count": 20,
   "id": "5b211f46",
   "metadata": {},
   "outputs": [
    {
     "data": {
      "text/plain": [
       "'1,000,000'"
      ]
     },
     "execution_count": 20,
     "metadata": {},
     "output_type": "execute_result"
    }
   ],
   "source": [
    "\"{:,}\".format(1_000_000)"
   ]
  },
  {
   "cell_type": "code",
   "execution_count": 21,
   "id": "960f977f",
   "metadata": {},
   "outputs": [
    {
     "data": {
      "text/plain": [
       "'Florida'"
      ]
     },
     "execution_count": 21,
     "metadata": {},
     "output_type": "execute_result"
    }
   ],
   "source": [
    "'Florida'"
   ]
  },
  {
   "cell_type": "code",
   "execution_count": 22,
   "id": "ad28d64f",
   "metadata": {},
   "outputs": [
    {
     "data": {
      "text/plain": [
       "\"Florida's Turnpike\""
      ]
     },
     "execution_count": 22,
     "metadata": {},
     "output_type": "execute_result"
    }
   ],
   "source": [
    "'Florida\\'s Turnpike'"
   ]
  },
  {
   "cell_type": "code",
   "execution_count": 23,
   "id": "af62188c",
   "metadata": {},
   "outputs": [
    {
     "data": {
      "text/plain": [
       "\"Florida's Turnpike\""
      ]
     },
     "execution_count": 23,
     "metadata": {},
     "output_type": "execute_result"
    }
   ],
   "source": [
    "\"Florida's Turnpike\""
   ]
  },
  {
   "cell_type": "code",
   "execution_count": 24,
   "id": "4e4d7e2a",
   "metadata": {},
   "outputs": [
    {
     "data": {
      "text/plain": [
       "\"Florida's \\tTurnpike\""
      ]
     },
     "execution_count": 24,
     "metadata": {},
     "output_type": "execute_result"
    }
   ],
   "source": [
    "\"Florida's \\tTurnpike\""
   ]
  },
  {
   "cell_type": "code",
   "execution_count": 25,
   "id": "e7d750c5",
   "metadata": {},
   "outputs": [
    {
     "data": {
      "text/plain": [
       "\"Florida's \\tTurnpike\""
      ]
     },
     "execution_count": 25,
     "metadata": {},
     "output_type": "execute_result"
    }
   ],
   "source": [
    "'Florida\\'s \\tTurnpike'"
   ]
  },
  {
   "cell_type": "code",
   "execution_count": 32,
   "id": "a7d00f32",
   "metadata": {},
   "outputs": [
    {
     "name": "stdout",
     "output_type": "stream",
     "text": [
      "Florida's \tTurnpike\n"
     ]
    }
   ],
   "source": [
    "print('Florida\\'s \\tTurnpike')"
   ]
  },
  {
   "cell_type": "code",
   "execution_count": 33,
   "id": "adb42337",
   "metadata": {},
   "outputs": [
    {
     "name": "stdout",
     "output_type": "stream",
     "text": [
      "Florida's \n",
      "Turnpike\n"
     ]
    }
   ],
   "source": [
    "print('Florida\\'s \\nTurnpike')"
   ]
  },
  {
   "cell_type": "code",
   "execution_count": 34,
   "id": "cc8f77aa",
   "metadata": {},
   "outputs": [
    {
     "name": "stdout",
     "output_type": "stream",
     "text": [
      "Florida's \\Turnpike\n"
     ]
    }
   ],
   "source": [
    "print('Florida\\'s \\\\Turnpike')"
   ]
  },
  {
   "cell_type": "code",
   "execution_count": 36,
   "id": "3423a98d",
   "metadata": {},
   "outputs": [
    {
     "name": "stdout",
     "output_type": "stream",
     "text": [
      "Floridas Turnpike\n"
     ]
    }
   ],
   "source": [
    "print(r'Floridas Turnpike')"
   ]
  },
  {
   "cell_type": "code",
   "execution_count": 37,
   "id": "38f9b2ad",
   "metadata": {},
   "outputs": [
    {
     "name": "stdout",
     "output_type": "stream",
     "text": [
      "\n",
      "usage: florida-man [option]\n",
      "    -h             Display this usage message\n",
      "    -t degrees     Set temperature in F\n",
      "    -a             Include alligatros\n",
      "    \n"
     ]
    }
   ],
   "source": [
    "print('''\n",
    "usage: florida-man [option]\n",
    "    -h             Display this usage message\n",
    "    -t degrees     Set temperature in F\n",
    "    -a             Include alligatros\n",
    "    ''')"
   ]
  },
  {
   "cell_type": "code",
   "execution_count": 38,
   "id": "35b7de04",
   "metadata": {},
   "outputs": [
    {
     "data": {
      "text/plain": [
       "'Florida'"
      ]
     },
     "execution_count": 38,
     "metadata": {},
     "output_type": "execute_result"
    }
   ],
   "source": [
    "\"Flo\" \"rida\""
   ]
  },
  {
   "cell_type": "code",
   "execution_count": 40,
   "id": "9f55f533",
   "metadata": {},
   "outputs": [
    {
     "data": {
      "text/plain": [
       "'Cape Canaveral'"
      ]
     },
     "execution_count": 40,
     "metadata": {},
     "output_type": "execute_result"
    }
   ],
   "source": [
    "s1=\"Cape \"\n",
    "s2=\"Canaveral\"\n",
    "s1+s2"
   ]
  },
  {
   "cell_type": "code",
   "execution_count": 41,
   "id": "6b495d99",
   "metadata": {},
   "outputs": [
    {
     "data": {
      "text/plain": [
       "'Miami'"
      ]
     },
     "execution_count": 41,
     "metadata": {},
     "output_type": "execute_result"
    }
   ],
   "source": [
    "cities = [\"Miami\", \"Orlando\", \"Tampa\", \"Jacksonville\"]\n",
    "cities[0]"
   ]
  },
  {
   "cell_type": "code",
   "execution_count": 42,
   "id": "fec07bac",
   "metadata": {},
   "outputs": [
    {
     "data": {
      "text/plain": [
       "['Orlando', 'Tampa']"
      ]
     },
     "execution_count": 42,
     "metadata": {},
     "output_type": "execute_result"
    }
   ],
   "source": [
    "cities[1:3]"
   ]
  },
  {
   "cell_type": "code",
   "execution_count": 43,
   "id": "a89d03e2",
   "metadata": {},
   "outputs": [
    {
     "data": {
      "text/plain": [
       "['Miami', 'Orlando', 'Tampa', 'Jacksonville']"
      ]
     },
     "execution_count": 43,
     "metadata": {},
     "output_type": "execute_result"
    }
   ],
   "source": [
    "cities[0:4]"
   ]
  },
  {
   "cell_type": "code",
   "execution_count": 44,
   "id": "256166de",
   "metadata": {},
   "outputs": [],
   "source": [
    "cities.append(\"Tallahassee\")"
   ]
  },
  {
   "cell_type": "code",
   "execution_count": 45,
   "id": "b0e57895",
   "metadata": {},
   "outputs": [],
   "source": [
    "cities.append(123)"
   ]
  },
  {
   "cell_type": "code",
   "execution_count": 46,
   "id": "2cc594a8",
   "metadata": {},
   "outputs": [
    {
     "data": {
      "text/plain": [
       "['Miami', 'Orlando', 'Tampa', 'Jacksonville', 'Tallahassee', 123]"
      ]
     },
     "execution_count": 46,
     "metadata": {},
     "output_type": "execute_result"
    }
   ],
   "source": [
    "cities"
   ]
  },
  {
   "cell_type": "code",
   "execution_count": 48,
   "id": "7a4d3d11",
   "metadata": {},
   "outputs": [
    {
     "data": {
      "text/plain": [
       "123"
      ]
     },
     "execution_count": 48,
     "metadata": {},
     "output_type": "execute_result"
    }
   ],
   "source": [
    "cities.pop()"
   ]
  },
  {
   "cell_type": "code",
   "execution_count": 49,
   "id": "417b14c2",
   "metadata": {},
   "outputs": [
    {
     "data": {
      "text/plain": [
       "['Miami', 'Orlando', 'Tampa', 'Jacksonville', 'Tallahassee']"
      ]
     },
     "execution_count": 49,
     "metadata": {},
     "output_type": "execute_result"
    }
   ],
   "source": [
    "cities"
   ]
  },
  {
   "cell_type": "code",
   "execution_count": 51,
   "id": "4afd3377",
   "metadata": {},
   "outputs": [
    {
     "data": {
      "text/plain": [
       "'Tallahassee'"
      ]
     },
     "execution_count": 51,
     "metadata": {},
     "output_type": "execute_result"
    }
   ],
   "source": [
    "cities.pop()"
   ]
  },
  {
   "cell_type": "code",
   "execution_count": 52,
   "id": "c10b9f3e",
   "metadata": {},
   "outputs": [
    {
     "data": {
      "text/plain": [
       "['Miami', 'Orlando', 'Tampa', 'Jacksonville']"
      ]
     },
     "execution_count": 52,
     "metadata": {},
     "output_type": "execute_result"
    }
   ],
   "source": [
    "cities"
   ]
  },
  {
   "cell_type": "code",
   "execution_count": 53,
   "id": "3e047cb5",
   "metadata": {},
   "outputs": [],
   "source": [
    "cities[2]=\"Tampa-St. Petersburg\""
   ]
  },
  {
   "cell_type": "code",
   "execution_count": 54,
   "id": "7f753db2",
   "metadata": {},
   "outputs": [
    {
     "data": {
      "text/plain": [
       "['Miami', 'Orlando', 'Tampa-St. Petersburg', 'Jacksonville']"
      ]
     },
     "execution_count": 54,
     "metadata": {},
     "output_type": "execute_result"
    }
   ],
   "source": [
    "cities"
   ]
  },
  {
   "cell_type": "code",
   "execution_count": 57,
   "id": "1b13651b",
   "metadata": {},
   "outputs": [],
   "source": [
    "cities[0]=\"Orlando\""
   ]
  },
  {
   "cell_type": "code",
   "execution_count": 58,
   "id": "36082828",
   "metadata": {},
   "outputs": [
    {
     "data": {
      "text/plain": [
       "['Orlando', 'Orlando', 'Tampa-St. Petersburg', 'Jacksonville']"
      ]
     },
     "execution_count": 58,
     "metadata": {},
     "output_type": "execute_result"
    }
   ],
   "source": [
    "cities"
   ]
  },
  {
   "cell_type": "code",
   "execution_count": 96,
   "id": "24108b7f",
   "metadata": {},
   "outputs": [],
   "source": [
    "counties=(\"Miami-Dade\", \"Orange\", \"Hillsborough\", \"Duval\") # Tuple, not a list"
   ]
  },
  {
   "cell_type": "code",
   "execution_count": 97,
   "id": "037f00e5",
   "metadata": {},
   "outputs": [
    {
     "ename": "TypeError",
     "evalue": "'tuple' object does not support item assignment",
     "output_type": "error",
     "traceback": [
      "\u001b[0;31m---------------------------------------------------------------------------\u001b[0m",
      "\u001b[0;31mTypeError\u001b[0m                                 Traceback (most recent call last)",
      "Cell \u001b[0;32mIn[97], line 1\u001b[0m\n\u001b[0;32m----> 1\u001b[0m counties[\u001b[38;5;241m0\u001b[39m]\u001b[38;5;241m=\u001b[39m\u001b[38;5;124m\"\u001b[39m\u001b[38;5;124mMiami\u001b[39m\u001b[38;5;124m\"\u001b[39m\n",
      "\u001b[0;31mTypeError\u001b[0m: 'tuple' object does not support item assignment"
     ]
    }
   ],
   "source": [
    "counties[0]=\"Miami\""
   ]
  },
  {
   "cell_type": "code",
   "execution_count": 98,
   "id": "6adea3ef",
   "metadata": {},
   "outputs": [],
   "source": [
    "# Dictionaries\n",
    "jurisdictions={\"Miami\":\"Dade County\", \"Orlando\":\"Orange County\"}"
   ]
  },
  {
   "cell_type": "code",
   "execution_count": 99,
   "id": "8cbf16e9",
   "metadata": {},
   "outputs": [],
   "source": [
    "jurisdictions[\"Jacksonville\"]=\"Duval\""
   ]
  },
  {
   "cell_type": "code",
   "execution_count": 100,
   "id": "122a3577",
   "metadata": {},
   "outputs": [
    {
     "name": "stdout",
     "output_type": "stream",
     "text": [
      "{'Miami': 'Dade County', 'Orlando': 'Orange County', 'Jacksonville': 'Duval'}\n"
     ]
    }
   ],
   "source": [
    "print(jurisdictions)"
   ]
  },
  {
   "cell_type": "code",
   "execution_count": 101,
   "id": "debf7db0",
   "metadata": {},
   "outputs": [
    {
     "name": "stdout",
     "output_type": "stream",
     "text": [
      "D\n"
     ]
    }
   ],
   "source": [
    "print(jurisdictions['Miami'][0])"
   ]
  },
  {
   "cell_type": "code",
   "execution_count": 102,
   "id": "d82af0cf",
   "metadata": {},
   "outputs": [
    {
     "name": "stdout",
     "output_type": "stream",
     "text": [
      "C\n"
     ]
    }
   ],
   "source": [
    "print(jurisdictions['Miami'][5])"
   ]
  },
  {
   "cell_type": "code",
   "execution_count": 103,
   "id": "0499ac12",
   "metadata": {},
   "outputs": [
    {
     "name": "stdout",
     "output_type": "stream",
     "text": [
      "Dade C\n"
     ]
    }
   ],
   "source": [
    "print(jurisdictions['Miami'][0:6])"
   ]
  },
  {
   "cell_type": "code",
   "execution_count": 104,
   "id": "687a1b0c",
   "metadata": {},
   "outputs": [],
   "source": [
    "jurisdictions[\"Miami\"]=\"abc\""
   ]
  },
  {
   "cell_type": "code",
   "execution_count": 105,
   "id": "879bb061",
   "metadata": {},
   "outputs": [
    {
     "name": "stdout",
     "output_type": "stream",
     "text": [
      "{'Miami': 'abc', 'Orlando': 'Orange County', 'Jacksonville': 'Duval'}\n"
     ]
    }
   ],
   "source": [
    "print(jurisdictions)"
   ]
  },
  {
   "cell_type": "code",
   "execution_count": 106,
   "id": "a7520374",
   "metadata": {},
   "outputs": [
    {
     "name": "stdout",
     "output_type": "stream",
     "text": [
      "{'Biscayne', 'Everglades', 'Dry Tortugas'}\n"
     ]
    }
   ],
   "source": [
    "national_parks={\"Everglades\",\"Biscayne\",\"Dry Tortugas\"}  # Set\n",
    "print(national_parks)"
   ]
  },
  {
   "cell_type": "code",
   "execution_count": 107,
   "id": "486bef4b",
   "metadata": {},
   "outputs": [],
   "source": [
    "a=1;b=2"
   ]
  },
  {
   "cell_type": "code",
   "execution_count": 109,
   "id": "ec31e2bd",
   "metadata": {},
   "outputs": [
    {
     "name": "stdout",
     "output_type": "stream",
     "text": [
      "didn't find Miami Beaach\n"
     ]
    }
   ],
   "source": [
    "x=\"Miami Beaach\"\n",
    "\n",
    "if x in cities:\n",
    "    print(\"found\",x,\"city\")\n",
    "elif x in counties:\n",
    "    print(\"found\", x, \"county\")\n",
    "else:\n",
    "    print(r\"didn't find\",x)\n"
   ]
  },
  {
   "cell_type": "code",
   "execution_count": 110,
   "id": "fcb6dc93",
   "metadata": {},
   "outputs": [
    {
     "name": "stdout",
     "output_type": "stream",
     "text": [
      "Miami city\n",
      "Orlando city\n",
      "Tampa-St. Petersburg city\n",
      "Jacksonville city\n"
     ]
    }
   ],
   "source": [
    "for x in cities:\n",
    "    print(x,\"city\")"
   ]
  },
  {
   "cell_type": "code",
   "execution_count": 111,
   "id": "678fb4d8",
   "metadata": {},
   "outputs": [
    {
     "name": "stdout",
     "output_type": "stream",
     "text": [
      "1\n",
      "2\n",
      "3\n",
      "4\n"
     ]
    }
   ],
   "source": [
    "x=1\n",
    "while x<5:\n",
    "    print(x)\n",
    "    x+=1"
   ]
  },
  {
   "cell_type": "code",
   "execution_count": 119,
   "id": "007eac59",
   "metadata": {},
   "outputs": [
    {
     "name": "stdout",
     "output_type": "stream",
     "text": [
      "1\n",
      "0\n",
      "-1\n",
      "-2\n",
      "-3\n",
      "-4\n"
     ]
    }
   ],
   "source": [
    "x=1\n",
    "while x>-5:\n",
    "    print(x)\n",
    "    x +=-1"
   ]
  },
  {
   "cell_type": "code",
   "execution_count": 120,
   "id": "3d8c7c7c",
   "metadata": {},
   "outputs": [
    {
     "name": "stdout",
     "output_type": "stream",
     "text": [
      "1\n",
      "2\n",
      "3\n"
     ]
    }
   ],
   "source": [
    "x=1\n",
    "while x<5:\n",
    "    print(x)\n",
    "    x += 1\n",
    "    if x>3:\n",
    "        break"
   ]
  },
  {
   "cell_type": "code",
   "execution_count": 122,
   "id": "80204d56",
   "metadata": {},
   "outputs": [
    {
     "ename": "ModuleNotFoundError",
     "evalue": "No module named 'transportation_tutorials'",
     "output_type": "error",
     "traceback": [
      "\u001b[0;31m---------------------------------------------------------------------------\u001b[0m",
      "\u001b[0;31mModuleNotFoundError\u001b[0m                       Traceback (most recent call last)",
      "Cell \u001b[0;32mIn[122], line 3\u001b[0m\n\u001b[1;32m      1\u001b[0m \u001b[38;5;28;01mimport\u001b[39;00m \u001b[38;5;21;01mos\u001b[39;00m\n\u001b[1;32m      2\u001b[0m \u001b[38;5;28;01mimport\u001b[39;00m \u001b[38;5;21;01mnumpy\u001b[39;00m \u001b[38;5;28;01mas\u001b[39;00m \u001b[38;5;21;01mnp\u001b[39;00m\n\u001b[0;32m----> 3\u001b[0m \u001b[38;5;28;01mfrom\u001b[39;00m \u001b[38;5;21;01mtransportation_tutorials\u001b[39;00m \u001b[38;5;28;01mimport\u001b[39;00m data \u001b[38;5;28;01mas\u001b[39;00m td\n",
      "\u001b[0;31mModuleNotFoundError\u001b[0m: No module named 'transportation_tutorials'"
     ]
    }
   ],
   "source": [
    "import os\n",
    "import numpy as np\n",
    "from transportation_tutorials import data as td"
   ]
  },
  {
   "cell_type": "code",
   "execution_count": 123,
   "id": "64437153",
   "metadata": {},
   "outputs": [
    {
     "data": {
      "text/plain": [
       "array([0., 0., 0., 0., 0.])"
      ]
     },
     "execution_count": 123,
     "metadata": {},
     "output_type": "execute_result"
    }
   ],
   "source": [
    "np.zeros(5)"
   ]
  },
  {
   "cell_type": "code",
   "execution_count": null,
   "id": "5cb8d9ab",
   "metadata": {},
   "outputs": [],
   "source": []
  },
  {
   "cell_type": "code",
   "execution_count": null,
   "id": "f50603d7",
   "metadata": {},
   "outputs": [],
   "source": []
  },
  {
   "cell_type": "code",
   "execution_count": null,
   "id": "59c58666",
   "metadata": {},
   "outputs": [],
   "source": []
  }
 ],
 "metadata": {
  "kernelspec": {
   "display_name": "Python 3 (ipykernel)",
   "language": "python",
   "name": "python3"
  },
  "language_info": {
   "codemirror_mode": {
    "name": "ipython",
    "version": 3
   },
   "file_extension": ".py",
   "mimetype": "text/x-python",
   "name": "python",
   "nbconvert_exporter": "python",
   "pygments_lexer": "ipython3",
   "version": "3.11.4"
  }
 },
 "nbformat": 4,
 "nbformat_minor": 5
}
