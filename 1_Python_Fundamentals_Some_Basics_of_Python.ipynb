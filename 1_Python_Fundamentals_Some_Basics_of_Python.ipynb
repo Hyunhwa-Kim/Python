{
 "cells": [
  {
   "cell_type": "code",
   "execution_count": 2,
   "id": "3b60c0d3",
   "metadata": {},
   "outputs": [],
   "source": [
    "a=1"
   ]
  },
  {
   "cell_type": "code",
   "execution_count": 3,
   "id": "86678202",
   "metadata": {},
   "outputs": [
    {
     "data": {
      "text/plain": [
       "True"
      ]
     },
     "execution_count": 3,
     "metadata": {},
     "output_type": "execute_result"
    }
   ],
   "source": [
    "isinstance(a,int)"
   ]
  },
  {
   "cell_type": "code",
   "execution_count": 4,
   "id": "ed7c3a89",
   "metadata": {},
   "outputs": [],
   "source": [
    "a=\"Hello\""
   ]
  },
  {
   "cell_type": "code",
   "execution_count": 5,
   "id": "ccd8abec",
   "metadata": {},
   "outputs": [
    {
     "data": {
      "text/plain": [
       "False"
      ]
     },
     "execution_count": 5,
     "metadata": {},
     "output_type": "execute_result"
    }
   ],
   "source": [
    "isinstance(a,int)   "
   ]
  },
  {
   "cell_type": "code",
   "execution_count": 6,
   "id": "51c92c7d",
   "metadata": {},
   "outputs": [
    {
     "data": {
      "text/plain": [
       "True"
      ]
     },
     "execution_count": 6,
     "metadata": {},
     "output_type": "execute_result"
    }
   ],
   "source": [
    "a==\"Hello\""
   ]
  },
  {
   "cell_type": "code",
   "execution_count": 8,
   "id": "70b9a226",
   "metadata": {},
   "outputs": [
    {
     "data": {
      "text/plain": [
       "'This is a comment'"
      ]
     },
     "execution_count": 8,
     "metadata": {},
     "output_type": "execute_result"
    }
   ],
   "source": [
    "# This is a comment\n",
    "\"This is a comment\""
   ]
  },
  {
   "cell_type": "code",
   "execution_count": 11,
   "id": "17966ded",
   "metadata": {},
   "outputs": [
    {
     "data": {
      "text/plain": [
       "True"
      ]
     },
     "execution_count": 11,
     "metadata": {},
     "output_type": "execute_result"
    }
   ],
   "source": [
    "a=1\n",
    "isinstance(a,int)"
   ]
  },
  {
   "cell_type": "code",
   "execution_count": 13,
   "id": "55fc592b",
   "metadata": {},
   "outputs": [
    {
     "data": {
      "text/plain": [
       "False"
      ]
     },
     "execution_count": 13,
     "metadata": {},
     "output_type": "execute_result"
    }
   ],
   "source": [
    "isinstance(a,float)"
   ]
  },
  {
   "cell_type": "code",
   "execution_count": 14,
   "id": "79e756d3",
   "metadata": {},
   "outputs": [
    {
     "data": {
      "text/plain": [
       "True"
      ]
     },
     "execution_count": 14,
     "metadata": {},
     "output_type": "execute_result"
    }
   ],
   "source": [
    "a=1.0\n",
    "isinstance(a,float)"
   ]
  },
  {
   "cell_type": "code",
   "execution_count": 15,
   "id": "cf1ef5c0",
   "metadata": {},
   "outputs": [
    {
     "data": {
      "text/plain": [
       "(1, 0, 0)"
      ]
     },
     "execution_count": 15,
     "metadata": {},
     "output_type": "execute_result"
    }
   ],
   "source": [
    "1,000,000"
   ]
  },
  {
   "cell_type": "code",
   "execution_count": 16,
   "id": "b09a678d",
   "metadata": {},
   "outputs": [
    {
     "data": {
      "text/plain": [
       "1000000"
      ]
     },
     "execution_count": 16,
     "metadata": {},
     "output_type": "execute_result"
    }
   ],
   "source": [
    "1_000_000"
   ]
  },
  {
   "cell_type": "code",
   "execution_count": 20,
   "id": "5b211f46",
   "metadata": {},
   "outputs": [
    {
     "data": {
      "text/plain": [
       "'1,000,000'"
      ]
     },
     "execution_count": 20,
     "metadata": {},
     "output_type": "execute_result"
    }
   ],
   "source": [
    "\"{:,}\".format(1_000_000)"
   ]
  },
  {
   "cell_type": "code",
   "execution_count": 21,
   "id": "960f977f",
   "metadata": {},
   "outputs": [
    {
     "data": {
      "text/plain": [
       "'Florida'"
      ]
     },
     "execution_count": 21,
     "metadata": {},
     "output_type": "execute_result"
    }
   ],
   "source": [
    "'Florida'"
   ]
  },
  {
   "cell_type": "code",
   "execution_count": 22,
   "id": "ad28d64f",
   "metadata": {},
   "outputs": [
    {
     "data": {
      "text/plain": [
       "\"Florida's Turnpike\""
      ]
     },
     "execution_count": 22,
     "metadata": {},
     "output_type": "execute_result"
    }
   ],
   "source": [
    "'Florida\\'s Turnpike'"
   ]
  },
  {
   "cell_type": "code",
   "execution_count": 23,
   "id": "af62188c",
   "metadata": {},
   "outputs": [
    {
     "data": {
      "text/plain": [
       "\"Florida's Turnpike\""
      ]
     },
     "execution_count": 23,
     "metadata": {},
     "output_type": "execute_result"
    }
   ],
   "source": [
    "\"Florida's Turnpike\""
   ]
  },
  {
   "cell_type": "code",
   "execution_count": 24,
   "id": "4e4d7e2a",
   "metadata": {},
   "outputs": [
    {
     "data": {
      "text/plain": [
       "\"Florida's \\tTurnpike\""
      ]
     },
     "execution_count": 24,
     "metadata": {},
     "output_type": "execute_result"
    }
   ],
   "source": [
    "\"Florida's \\tTurnpike\""
   ]
  },
  {
   "cell_type": "code",
   "execution_count": 25,
   "id": "e7d750c5",
   "metadata": {},
   "outputs": [
    {
     "data": {
      "text/plain": [
       "\"Florida's \\tTurnpike\""
      ]
     },
     "execution_count": 25,
     "metadata": {},
     "output_type": "execute_result"
    }
   ],
   "source": [
    "'Florida\\'s \\tTurnpike'"
   ]
  },
  {
   "cell_type": "code",
   "execution_count": 32,
   "id": "a7d00f32",
   "metadata": {},
   "outputs": [
    {
     "name": "stdout",
     "output_type": "stream",
     "text": [
      "Florida's \tTurnpike\n"
     ]
    }
   ],
   "source": [
    "print('Florida\\'s \\tTurnpike')"
   ]
  },
  {
   "cell_type": "code",
   "execution_count": 33,
   "id": "adb42337",
   "metadata": {},
   "outputs": [
    {
     "name": "stdout",
     "output_type": "stream",
     "text": [
      "Florida's \n",
      "Turnpike\n"
     ]
    }
   ],
   "source": [
    "print('Florida\\'s \\nTurnpike')"
   ]
  },
  {
   "cell_type": "code",
   "execution_count": 34,
   "id": "cc8f77aa",
   "metadata": {},
   "outputs": [
    {
     "name": "stdout",
     "output_type": "stream",
     "text": [
      "Florida's \\Turnpike\n"
     ]
    }
   ],
   "source": [
    "print('Florida\\'s \\\\Turnpike')"
   ]
  },
  {
   "cell_type": "code",
   "execution_count": 36,
   "id": "3423a98d",
   "metadata": {},
   "outputs": [
    {
     "name": "stdout",
     "output_type": "stream",
     "text": [
      "Floridas Turnpike\n"
     ]
    }
   ],
   "source": [
    "print(r'Floridas Turnpike')"
   ]
  },
  {
   "cell_type": "code",
   "execution_count": 37,
   "id": "38f9b2ad",
   "metadata": {},
   "outputs": [
    {
     "name": "stdout",
     "output_type": "stream",
     "text": [
      "\n",
      "usage: florida-man [option]\n",
      "    -h             Display this usage message\n",
      "    -t degrees     Set temperature in F\n",
      "    -a             Include alligatros\n",
      "    \n"
     ]
    }
   ],
   "source": [
    "print('''\n",
    "usage: florida-man [option]\n",
    "    -h             Display this usage message\n",
    "    -t degrees     Set temperature in F\n",
    "    -a             Include alligatros\n",
    "    ''')"
   ]
  },
  {
   "cell_type": "code",
   "execution_count": 38,
   "id": "35b7de04",
   "metadata": {},
   "outputs": [
    {
     "data": {
      "text/plain": [
       "'Florida'"
      ]
     },
     "execution_count": 38,
     "metadata": {},
     "output_type": "execute_result"
    }
   ],
   "source": [
    "\"Flo\" \"rida\""
   ]
  },
  {
   "cell_type": "code",
   "execution_count": 40,
   "id": "9f55f533",
   "metadata": {},
   "outputs": [
    {
     "data": {
      "text/plain": [
       "'Cape Canaveral'"
      ]
     },
     "execution_count": 40,
     "metadata": {},
     "output_type": "execute_result"
    }
   ],
   "source": [
    "s1=\"Cape \"\n",
    "s2=\"Canaveral\"\n",
    "s1+s2"
   ]
  },
  {
   "cell_type": "code",
   "execution_count": 41,
   "id": "6b495d99",
   "metadata": {},
   "outputs": [
    {
     "data": {
      "text/plain": [
       "'Miami'"
      ]
     },
     "execution_count": 41,
     "metadata": {},
     "output_type": "execute_result"
    }
   ],
   "source": [
    "cities = [\"Miami\", \"Orlando\", \"Tampa\", \"Jacksonville\"]\n",
    "cities[0]"
   ]
  },
  {
   "cell_type": "code",
   "execution_count": 42,
   "id": "fec07bac",
   "metadata": {},
   "outputs": [
    {
     "data": {
      "text/plain": [
       "['Orlando', 'Tampa']"
      ]
     },
     "execution_count": 42,
     "metadata": {},
     "output_type": "execute_result"
    }
   ],
   "source": [
    "cities[1:3]"
   ]
  },
  {
   "cell_type": "code",
   "execution_count": 43,
   "id": "a89d03e2",
   "metadata": {},
   "outputs": [
    {
     "data": {
      "text/plain": [
       "['Miami', 'Orlando', 'Tampa', 'Jacksonville']"
      ]
     },
     "execution_count": 43,
     "metadata": {},
     "output_type": "execute_result"
    }
   ],
   "source": [
    "cities[0:4]"
   ]
  },
  {
   "cell_type": "code",
   "execution_count": 44,
   "id": "256166de",
   "metadata": {},
   "outputs": [],
   "source": [
    "cities.append(\"Tallahassee\")"
   ]
  },
  {
   "cell_type": "code",
   "execution_count": 45,
   "id": "b0e57895",
   "metadata": {},
   "outputs": [],
   "source": [
    "cities.append(123)"
   ]
  },
  {
   "cell_type": "code",
   "execution_count": 46,
   "id": "2cc594a8",
   "metadata": {},
   "outputs": [
    {
     "data": {
      "text/plain": [
       "['Miami', 'Orlando', 'Tampa', 'Jacksonville', 'Tallahassee', 123]"
      ]
     },
     "execution_count": 46,
     "metadata": {},
     "output_type": "execute_result"
    }
   ],
   "source": [
    "cities"
   ]
  },
  {
   "cell_type": "code",
   "execution_count": 48,
   "id": "7a4d3d11",
   "metadata": {},
   "outputs": [
    {
     "data": {
      "text/plain": [
       "123"
      ]
     },
     "execution_count": 48,
     "metadata": {},
     "output_type": "execute_result"
    }
   ],
   "source": [
    "cities.pop()"
   ]
  },
  {
   "cell_type": "code",
   "execution_count": 49,
   "id": "417b14c2",
   "metadata": {},
   "outputs": [
    {
     "data": {
      "text/plain": [
       "['Miami', 'Orlando', 'Tampa', 'Jacksonville', 'Tallahassee']"
      ]
     },
     "execution_count": 49,
     "metadata": {},
     "output_type": "execute_result"
    }
   ],
   "source": [
    "cities"
   ]
  },
  {
   "cell_type": "code",
   "execution_count": 51,
   "id": "4afd3377",
   "metadata": {},
   "outputs": [
    {
     "data": {
      "text/plain": [
       "'Tallahassee'"
      ]
     },
     "execution_count": 51,
     "metadata": {},
     "output_type": "execute_result"
    }
   ],
   "source": [
    "cities.pop()"
   ]
  },
  {
   "cell_type": "code",
   "execution_count": 52,
   "id": "c10b9f3e",
   "metadata": {},
   "outputs": [
    {
     "data": {
      "text/plain": [
       "['Miami', 'Orlando', 'Tampa', 'Jacksonville']"
      ]
     },
     "execution_count": 52,
     "metadata": {},
     "output_type": "execute_result"
    }
   ],
   "source": [
    "cities"
   ]
  },
  {
   "cell_type": "code",
   "execution_count": 53,
   "id": "3e047cb5",
   "metadata": {},
   "outputs": [],
   "source": [
    "cities[2]=\"Tampa-St. Petersburg\""
   ]
  },
  {
   "cell_type": "code",
   "execution_count": 54,
   "id": "7f753db2",
   "metadata": {},
   "outputs": [
    {
     "data": {
      "text/plain": [
       "['Miami', 'Orlando', 'Tampa-St. Petersburg', 'Jacksonville']"
      ]
     },
     "execution_count": 54,
     "metadata": {},
     "output_type": "execute_result"
    }
   ],
   "source": [
    "cities"
   ]
  },
  {
   "cell_type": "code",
   "execution_count": 57,
   "id": "1b13651b",
   "metadata": {},
   "outputs": [],
   "source": [
    "cities[0]=\"Orlando\""
   ]
  },
  {
   "cell_type": "code",
   "execution_count": 58,
   "id": "36082828",
   "metadata": {},
   "outputs": [
    {
     "data": {
      "text/plain": [
       "['Orlando', 'Orlando', 'Tampa-St. Petersburg', 'Jacksonville']"
      ]
     },
     "execution_count": 58,
     "metadata": {},
     "output_type": "execute_result"
    }
   ],
   "source": [
    "cities"
   ]
  },
  {
   "cell_type": "code",
   "execution_count": 96,
   "id": "24108b7f",
   "metadata": {},
   "outputs": [],
   "source": [
    "counties=(\"Miami-Dade\", \"Orange\", \"Hillsborough\", \"Duval\") # Tuple, not a list"
   ]
  },
  {
   "cell_type": "code",
   "execution_count": 97,
   "id": "037f00e5",
   "metadata": {},
   "outputs": [
    {
     "ename": "TypeError",
     "evalue": "'tuple' object does not support item assignment",
     "output_type": "error",
     "traceback": [
      "\u001b[0;31m---------------------------------------------------------------------------\u001b[0m",
      "\u001b[0;31mTypeError\u001b[0m                                 Traceback (most recent call last)",
      "Cell \u001b[0;32mIn[97], line 1\u001b[0m\n\u001b[0;32m----> 1\u001b[0m counties[\u001b[38;5;241m0\u001b[39m]\u001b[38;5;241m=\u001b[39m\u001b[38;5;124m\"\u001b[39m\u001b[38;5;124mMiami\u001b[39m\u001b[38;5;124m\"\u001b[39m\n",
      "\u001b[0;31mTypeError\u001b[0m: 'tuple' object does not support item assignment"
     ]
    }
   ],
   "source": [
    "counties[0]=\"Miami\""
   ]
  },
  {
   "cell_type": "code",
   "execution_count": 98,
   "id": "6adea3ef",
   "metadata": {},
   "outputs": [],
   "source": [
    "# Dictionaries\n",
    "jurisdictions={\"Miami\":\"Dade County\", \"Orlando\":\"Orange County\"}"
   ]
  },
  {
   "cell_type": "code",
   "execution_count": 99,
   "id": "8cbf16e9",
   "metadata": {},
   "outputs": [],
   "source": [
    "jurisdictions[\"Jacksonville\"]=\"Duval\""
   ]
  },
  {
   "cell_type": "code",
   "execution_count": 100,
   "id": "122a3577",
   "metadata": {},
   "outputs": [
    {
     "name": "stdout",
     "output_type": "stream",
     "text": [
      "{'Miami': 'Dade County', 'Orlando': 'Orange County', 'Jacksonville': 'Duval'}\n"
     ]
    }
   ],
   "source": [
    "print(jurisdictions)"
   ]
  },
  {
   "cell_type": "code",
   "execution_count": 101,
   "id": "debf7db0",
   "metadata": {},
   "outputs": [
    {
     "name": "stdout",
     "output_type": "stream",
     "text": [
      "D\n"
     ]
    }
   ],
   "source": [
    "print(jurisdictions['Miami'][0])"
   ]
  },
  {
   "cell_type": "code",
   "execution_count": 102,
   "id": "d82af0cf",
   "metadata": {},
   "outputs": [
    {
     "name": "stdout",
     "output_type": "stream",
     "text": [
      "C\n"
     ]
    }
   ],
   "source": [
    "print(jurisdictions['Miami'][5])"
   ]
  },
  {
   "cell_type": "code",
   "execution_count": 103,
   "id": "0499ac12",
   "metadata": {},
   "outputs": [
    {
     "name": "stdout",
     "output_type": "stream",
     "text": [
      "Dade C\n"
     ]
    }
   ],
   "source": [
    "print(jurisdictions['Miami'][0:6])"
   ]
  },
  {
   "cell_type": "code",
   "execution_count": 104,
   "id": "687a1b0c",
   "metadata": {},
   "outputs": [],
   "source": [
    "jurisdictions[\"Miami\"]=\"abc\""
   ]
  },
  {
   "cell_type": "code",
   "execution_count": 105,
   "id": "879bb061",
   "metadata": {},
   "outputs": [
    {
     "name": "stdout",
     "output_type": "stream",
     "text": [
      "{'Miami': 'abc', 'Orlando': 'Orange County', 'Jacksonville': 'Duval'}\n"
     ]
    }
   ],
   "source": [
    "print(jurisdictions)"
   ]
  },
  {
   "cell_type": "code",
   "execution_count": 106,
   "id": "a7520374",
   "metadata": {},
   "outputs": [
    {
     "name": "stdout",
     "output_type": "stream",
     "text": [
      "{'Biscayne', 'Everglades', 'Dry Tortugas'}\n"
     ]
    }
   ],
   "source": [
    "national_parks={\"Everglades\",\"Biscayne\",\"Dry Tortugas\"}  # Set\n",
    "print(national_parks)"
   ]
  },
  {
   "cell_type": "code",
   "execution_count": 107,
   "id": "486bef4b",
   "metadata": {},
   "outputs": [],
   "source": [
    "a=1;b=2"
   ]
  },
  {
   "cell_type": "code",
   "execution_count": 109,
   "id": "ec31e2bd",
   "metadata": {},
   "outputs": [
    {
     "name": "stdout",
     "output_type": "stream",
     "text": [
      "didn't find Miami Beaach\n"
     ]
    }
   ],
   "source": [
    "x=\"Miami Beaach\"\n",
    "\n",
    "if x in cities:\n",
    "    print(\"found\",x,\"city\")\n",
    "elif x in counties:\n",
    "    print(\"found\", x, \"county\")\n",
    "else:\n",
    "    print(r\"didn't find\",x)\n"
   ]
  },
  {
   "cell_type": "code",
   "execution_count": 110,
   "id": "fcb6dc93",
   "metadata": {},
   "outputs": [
    {
     "name": "stdout",
     "output_type": "stream",
     "text": [
      "Miami city\n",
      "Orlando city\n",
      "Tampa-St. Petersburg city\n",
      "Jacksonville city\n"
     ]
    }
   ],
   "source": [
    "for x in cities:\n",
    "    print(x,\"city\")"
   ]
  },
  {
   "cell_type": "code",
   "execution_count": 111,
   "id": "678fb4d8",
   "metadata": {},
   "outputs": [
    {
     "name": "stdout",
     "output_type": "stream",
     "text": [
      "1\n",
      "2\n",
      "3\n",
      "4\n"
     ]
    }
   ],
   "source": [
    "x=1\n",
    "while x<5:\n",
    "    print(x)\n",
    "    x+=1"
   ]
  },
  {
   "cell_type": "code",
   "execution_count": 119,
   "id": "007eac59",
   "metadata": {},
   "outputs": [
    {
     "name": "stdout",
     "output_type": "stream",
     "text": [
      "1\n",
      "0\n",
      "-1\n",
      "-2\n",
      "-3\n",
      "-4\n"
     ]
    }
   ],
   "source": [
    "x=1\n",
    "while x>-5:\n",
    "    print(x)\n",
    "    x +=-1"
   ]
  },
  {
   "cell_type": "code",
   "execution_count": 120,
   "id": "3d8c7c7c",
   "metadata": {},
   "outputs": [
    {
     "name": "stdout",
     "output_type": "stream",
     "text": [
      "1\n",
      "2\n",
      "3\n"
     ]
    }
   ],
   "source": [
    "x=1\n",
    "while x<5:\n",
    "    print(x)\n",
    "    x += 1\n",
    "    if x>3:\n",
    "        break"
   ]
  },
  {
   "cell_type": "code",
   "execution_count": 122,
   "id": "80204d56",
   "metadata": {},
   "outputs": [
    {
     "ename": "ModuleNotFoundError",
     "evalue": "No module named 'transportation_tutorials'",
     "output_type": "error",
     "traceback": [
      "\u001b[0;31m---------------------------------------------------------------------------\u001b[0m",
      "\u001b[0;31mModuleNotFoundError\u001b[0m                       Traceback (most recent call last)",
      "Cell \u001b[0;32mIn[122], line 3\u001b[0m\n\u001b[1;32m      1\u001b[0m \u001b[38;5;28;01mimport\u001b[39;00m \u001b[38;5;21;01mos\u001b[39;00m\n\u001b[1;32m      2\u001b[0m \u001b[38;5;28;01mimport\u001b[39;00m \u001b[38;5;21;01mnumpy\u001b[39;00m \u001b[38;5;28;01mas\u001b[39;00m \u001b[38;5;21;01mnp\u001b[39;00m\n\u001b[0;32m----> 3\u001b[0m \u001b[38;5;28;01mfrom\u001b[39;00m \u001b[38;5;21;01mtransportation_tutorials\u001b[39;00m \u001b[38;5;28;01mimport\u001b[39;00m data \u001b[38;5;28;01mas\u001b[39;00m td\n",
      "\u001b[0;31mModuleNotFoundError\u001b[0m: No module named 'transportation_tutorials'"
     ]
    }
   ],
   "source": [
    "import os\n",
    "import numpy as np\n",
    "from transportation_tutorials import data as td"
   ]
  },
  {
   "cell_type": "code",
   "execution_count": 123,
   "id": "64437153",
   "metadata": {},
   "outputs": [
    {
     "data": {
      "text/plain": [
       "array([0., 0., 0., 0., 0.])"
      ]
     },
     "execution_count": 123,
     "metadata": {},
     "output_type": "execute_result"
    }
   ],
   "source": [
    "np.zeros(5)"
   ]
  },
  {
   "cell_type": "code",
   "execution_count": 1,
   "id": "5cb8d9ab",
   "metadata": {},
   "outputs": [],
   "source": [
    "def greeting():\n",
    "    print(\"Hello, Florida!\")"
   ]
  },
  {
   "cell_type": "code",
   "execution_count": 2,
   "id": "f50603d7",
   "metadata": {},
   "outputs": [
    {
     "name": "stdout",
     "output_type": "stream",
     "text": [
      "Hello, Florida!\n"
     ]
    }
   ],
   "source": [
    "greeting()"
   ]
  },
  {
   "cell_type": "code",
   "execution_count": 3,
   "id": "59c58666",
   "metadata": {},
   "outputs": [],
   "source": [
    "def to_kilo(mi, ft):\n",
    "    dist = mi + ft/5280\n",
    "    return 1.60934 * dist"
   ]
  },
  {
   "cell_type": "code",
   "execution_count": 5,
   "id": "f8cde095",
   "metadata": {},
   "outputs": [
    {
     "data": {
      "text/plain": [
       "42.194883125"
      ]
     },
     "execution_count": 5,
     "metadata": {},
     "output_type": "execute_result"
    }
   ],
   "source": [
    "to_kilo(26, 1155)"
   ]
  },
  {
   "cell_type": "code",
   "execution_count": 11,
   "id": "aedc343a",
   "metadata": {},
   "outputs": [
    {
     "data": {
      "text/plain": [
       "16.0934"
      ]
     },
     "execution_count": 11,
     "metadata": {},
     "output_type": "execute_result"
    }
   ],
   "source": [
    "def to_kilo2(mi, ft=0):\n",
    "    dist = mi + ft/5280\n",
    "    return 1.60934 * dist\n",
    "to_kilo2(10)"
   ]
  },
  {
   "cell_type": "code",
   "execution_count": 10,
   "id": "590aab9a",
   "metadata": {},
   "outputs": [
    {
     "data": {
      "text/plain": [
       "16.096447992424242"
      ]
     },
     "execution_count": 10,
     "metadata": {},
     "output_type": "execute_result"
    }
   ],
   "source": [
    "to_kilo2(10,10)"
   ]
  },
  {
   "cell_type": "code",
   "execution_count": 16,
   "id": "1e47fa5e",
   "metadata": {},
   "outputs": [],
   "source": [
    "def to_kilo3(mi, ft=0, y=0):\n",
    "    dist = mi + ft/5280 + y/1760\n",
    "    return 1.60934 * dist"
   ]
  },
  {
   "cell_type": "code",
   "execution_count": 17,
   "id": "364be1e1",
   "metadata": {},
   "outputs": [
    {
     "data": {
      "text/plain": [
       "41.877587113636366"
      ]
     },
     "execution_count": 17,
     "metadata": {},
     "output_type": "execute_result"
    }
   ],
   "source": [
    "to_kilo3(26, y=38)"
   ]
  },
  {
   "cell_type": "code",
   "execution_count": 18,
   "id": "d8740f9d",
   "metadata": {},
   "outputs": [
    {
     "data": {
      "text/plain": [
       "41.87789191287879"
      ]
     },
     "execution_count": 18,
     "metadata": {},
     "output_type": "execute_result"
    }
   ],
   "source": [
    "to_kilo3(26, ft=1, y=38)"
   ]
  },
  {
   "cell_type": "code",
   "execution_count": 19,
   "id": "3614b29f",
   "metadata": {},
   "outputs": [
    {
     "ename": "TypeError",
     "evalue": "to_kilo3() missing 1 required positional argument: 'mi'",
     "output_type": "error",
     "traceback": [
      "\u001b[0;31m---------------------------------------------------------------------------\u001b[0m",
      "\u001b[0;31mTypeError\u001b[0m                                 Traceback (most recent call last)",
      "Cell \u001b[0;32mIn[19], line 1\u001b[0m\n\u001b[0;32m----> 1\u001b[0m to_kilo3(ft\u001b[38;5;241m=\u001b[39m\u001b[38;5;241m1\u001b[39m, y\u001b[38;5;241m=\u001b[39m\u001b[38;5;241m38\u001b[39m)\n",
      "\u001b[0;31mTypeError\u001b[0m: to_kilo3() missing 1 required positional argument: 'mi'"
     ]
    }
   ],
   "source": [
    "to_kilo3(ft=1, y=38)"
   ]
  },
  {
   "cell_type": "code",
   "execution_count": 22,
   "id": "7fafb203",
   "metadata": {},
   "outputs": [],
   "source": [
    "def county_names(*names):\n",
    "    for name in names:\n",
    "        print(name, \"county\")"
   ]
  },
  {
   "cell_type": "code",
   "execution_count": 23,
   "id": "a728ba83",
   "metadata": {},
   "outputs": [
    {
     "name": "stdout",
     "output_type": "stream",
     "text": [
      "p county\n",
      "l county\n",
      "m county\n"
     ]
    }
   ],
   "source": [
    "county_names(\"p\", \"l\", \"m\")"
   ]
  },
  {
   "cell_type": "code",
   "execution_count": 24,
   "id": "be2870ff",
   "metadata": {},
   "outputs": [],
   "source": [
    "def highway(*names, heading=None):\n",
    "    if heading:\n",
    "        print(heading)\n",
    "    for name in names:\n",
    "        print(\"-\",name)"
   ]
  },
  {
   "cell_type": "code",
   "execution_count": 25,
   "id": "aea5718a",
   "metadata": {},
   "outputs": [
    {
     "name": "stdout",
     "output_type": "stream",
     "text": [
      "Unofficial Names\n",
      "- A A\n",
      "- M C\n"
     ]
    }
   ],
   "source": [
    "highway(\"A A\", \"M C\", heading=\"Unofficial Names\")"
   ]
  },
  {
   "cell_type": "code",
   "execution_count": 26,
   "id": "5dded394",
   "metadata": {},
   "outputs": [
    {
     "name": "stdout",
     "output_type": "stream",
     "text": [
      "- A A\n",
      "- M C\n"
     ]
    }
   ],
   "source": [
    "highway(\"A A\", \"M C\")"
   ]
  },
  {
   "cell_type": "code",
   "execution_count": 27,
   "id": "13d50f85",
   "metadata": {},
   "outputs": [],
   "source": [
    "def highway2(*names, heading=\"Unofficial Names\"):\n",
    "    if heading:\n",
    "        print(heading)\n",
    "    for name in names:\n",
    "        print(\"-\",name)"
   ]
  },
  {
   "cell_type": "code",
   "execution_count": 28,
   "id": "582b21b4",
   "metadata": {},
   "outputs": [
    {
     "name": "stdout",
     "output_type": "stream",
     "text": [
      "Unofficial Names\n",
      "- A A\n",
      "- M C\n"
     ]
    }
   ],
   "source": [
    "highway2(\"A A\", \"M C\")"
   ]
  },
  {
   "cell_type": "code",
   "execution_count": 29,
   "id": "73896123",
   "metadata": {},
   "outputs": [
    {
     "name": "stdout",
     "output_type": "stream",
     "text": [
      "Unofficial Names2\n",
      "- A A\n",
      "- M C\n"
     ]
    }
   ],
   "source": [
    "highway2(\"A A\", \"M C\", heading=\"Unofficial Names2\")"
   ]
  },
  {
   "cell_type": "code",
   "execution_count": 31,
   "id": "c861037b",
   "metadata": {},
   "outputs": [
    {
     "name": "stdout",
     "output_type": "stream",
     "text": [
      "I_75 is Alligator Alley\n",
      "US_1 is Magic Carpet\n"
     ]
    }
   ],
   "source": [
    "def highway3(**names):\n",
    "    for key, value in names.items():\n",
    "        print(key,\"is\",value)\n",
    "\n",
    "highway3(I_75=\"Alligator Alley\", US_1=\"Magic Carpet\")\n"
   ]
  },
  {
   "cell_type": "code",
   "execution_count": 41,
   "id": "72ff0b7f",
   "metadata": {},
   "outputs": [
    {
     "name": "stdout",
     "output_type": "stream",
     "text": [
      "Alligator Alley\n"
     ]
    }
   ],
   "source": [
    "A={\"I_75\":\"Alligator Alley\", \"US_1\":\"Magic Carpet\"}\n",
    "print(A['I_75'])"
   ]
  },
  {
   "cell_type": "code",
   "execution_count": 44,
   "id": "0d8c49e2",
   "metadata": {},
   "outputs": [
    {
     "data": {
      "text/plain": [
       "dict_keys(['I_75', 'US_1'])"
      ]
     },
     "execution_count": 44,
     "metadata": {},
     "output_type": "execute_result"
    }
   ],
   "source": [
    "A.keys()"
   ]
  },
  {
   "cell_type": "code",
   "execution_count": 46,
   "id": "51a8c7fb",
   "metadata": {},
   "outputs": [
    {
     "data": {
      "text/plain": [
       "dict_values(['Alligator Alley', 'Magic Carpet'])"
      ]
     },
     "execution_count": 46,
     "metadata": {},
     "output_type": "execute_result"
    }
   ],
   "source": [
    "A.values()"
   ]
  },
  {
   "cell_type": "code",
   "execution_count": 47,
   "id": "d264c966",
   "metadata": {},
   "outputs": [
    {
     "data": {
      "text/plain": [
       "<function __main__.<lambda>(km)>"
      ]
     },
     "execution_count": 47,
     "metadata": {},
     "output_type": "execute_result"
    }
   ],
   "source": [
    "lambda km: km / 1.60934"
   ]
  },
  {
   "cell_type": "code",
   "execution_count": 49,
   "id": "7ae15e22",
   "metadata": {},
   "outputs": [
    {
     "data": {
      "text/plain": [
       "[3.106863683249034, 6.213727366498068, 26.097654939291886]"
      ]
     },
     "execution_count": 49,
     "metadata": {},
     "output_type": "execute_result"
    }
   ],
   "source": [
    "list(map(lambda km: km / 1.60934, [5, 10, 42]))"
   ]
  },
  {
   "cell_type": "code",
   "execution_count": 50,
   "id": "c142b813",
   "metadata": {},
   "outputs": [
    {
     "ename": "TypeError",
     "evalue": "list expected at most 1 argument, got 2",
     "output_type": "error",
     "traceback": [
      "\u001b[0;31m---------------------------------------------------------------------------\u001b[0m",
      "\u001b[0;31mTypeError\u001b[0m                                 Traceback (most recent call last)",
      "Cell \u001b[0;32mIn[50], line 1\u001b[0m\n\u001b[0;32m----> 1\u001b[0m \u001b[38;5;28mlist\u001b[39m(\u001b[38;5;28;01mlambda\u001b[39;00m km: km \u001b[38;5;241m/\u001b[39m \u001b[38;5;241m1.60934\u001b[39m, [\u001b[38;5;241m5\u001b[39m, \u001b[38;5;241m10\u001b[39m, \u001b[38;5;241m42\u001b[39m])\n",
      "\u001b[0;31mTypeError\u001b[0m: list expected at most 1 argument, got 2"
     ]
    }
   ],
   "source": [
    "list(lambda km: km / 1.60934, [5, 10, 42])"
   ]
  },
  {
   "cell_type": "code",
   "execution_count": 51,
   "id": "0a60d69e",
   "metadata": {},
   "outputs": [
    {
     "ename": "SyntaxError",
     "evalue": "invalid syntax (3683155868.py, line 1)",
     "output_type": "error",
     "traceback": [
      "\u001b[0;36m  Cell \u001b[0;32mIn[51], line 1\u001b[0;36m\u001b[0m\n\u001b[0;31m    for i in 1 to 5:\u001b[0m\n\u001b[0m               ^\u001b[0m\n\u001b[0;31mSyntaxError\u001b[0m\u001b[0;31m:\u001b[0m invalid syntax\n"
     ]
    }
   ],
   "source": [
    "for i in 1 to 5:\n",
    "    print(i)"
   ]
  },
  {
   "cell_type": "code",
   "execution_count": 54,
   "id": "94142a6a",
   "metadata": {},
   "outputs": [
    {
     "ename": "SyntaxError",
     "evalue": "invalid syntax (1474168111.py, line 1)",
     "output_type": "error",
     "traceback": [
      "\u001b[0;36m  Cell \u001b[0;32mIn[54], line 1\u001b[0;36m\u001b[0m\n\u001b[0;31m    for i in (1:5):\u001b[0m\n\u001b[0m               ^\u001b[0m\n\u001b[0;31mSyntaxError\u001b[0m\u001b[0;31m:\u001b[0m invalid syntax\n"
     ]
    }
   ],
   "source": [
    "for i in (1:5):\n",
    "    print(i)"
   ]
  },
  {
   "cell_type": "code",
   "execution_count": null,
   "id": "c72175dc",
   "metadata": {},
   "outputs": [],
   "source": [
    "speeds = {\n",
    "    'rural highway': 70,\n",
    "    'urban highway': 55,\n",
    "    'residential': 30,\n",
    "}\n",
    "\n",
    "for i in speed_limits:\n",
    "    print(speed_limits[i])"
   ]
  },
  {
   "cell_type": "code",
   "execution_count": 75,
   "id": "07cd658c",
   "metadata": {},
   "outputs": [],
   "source": [
    "x = list(range(5000))\n",
    "y = 0"
   ]
  },
  {
   "cell_type": "code",
   "execution_count": 76,
   "id": "a314c18e",
   "metadata": {},
   "outputs": [
    {
     "data": {
      "text/plain": [
       "41654167500"
      ]
     },
     "execution_count": 76,
     "metadata": {},
     "output_type": "execute_result"
    }
   ],
   "source": [
    "for i in x:\n",
    "    y = y + i**2\n",
    "y"
   ]
  },
  {
   "cell_type": "code",
   "execution_count": 77,
   "id": "45e77334",
   "metadata": {},
   "outputs": [
    {
     "data": {
      "text/plain": [
       "12497500"
      ]
     },
     "execution_count": 77,
     "metadata": {},
     "output_type": "execute_result"
    }
   ],
   "source": [
    "y=0\n",
    "\n",
    "for i in x:\n",
    "    y = y + i\n",
    "\n",
    "y"
   ]
  },
  {
   "cell_type": "code",
   "execution_count": 78,
   "id": "f96bb0f8",
   "metadata": {},
   "outputs": [
    {
     "data": {
      "text/plain": [
       "array([0, 1, 2, 3, 4])"
      ]
     },
     "execution_count": 78,
     "metadata": {},
     "output_type": "execute_result"
    }
   ],
   "source": [
    "import numpy as np\n",
    "z = np.arange(5)\n",
    "(z**2).sum()\n",
    "z"
   ]
  },
  {
   "cell_type": "code",
   "execution_count": 84,
   "id": "cf8dd525",
   "metadata": {},
   "outputs": [
    {
     "name": "stdout",
     "output_type": "stream",
     "text": [
      "240 ns ± 1.96 ns per loop (mean ± std. dev. of 7 runs, 1,000,000 loops each)\n"
     ]
    }
   ],
   "source": [
    "%%timeit\n",
    "x = list(range(5))\n",
    "y = 0\n",
    "for i in x:\n",
    "    y = y + i**2\n"
   ]
  },
  {
   "cell_type": "code",
   "execution_count": 85,
   "id": "ffddb78e",
   "metadata": {},
   "outputs": [
    {
     "name": "stdout",
     "output_type": "stream",
     "text": [
      "[0, 1, 2, 3, 4]\n"
     ]
    }
   ],
   "source": [
    "print(x)"
   ]
  },
  {
   "cell_type": "code",
   "execution_count": 88,
   "id": "f11073d2",
   "metadata": {},
   "outputs": [
    {
     "data": {
      "text/plain": [
       "array([11, 22, 33, 44])"
      ]
     },
     "execution_count": 88,
     "metadata": {},
     "output_type": "execute_result"
    }
   ],
   "source": [
    "a = np.asarray([11,22,33,44])\n",
    "a"
   ]
  },
  {
   "cell_type": "code",
   "execution_count": 89,
   "id": "c1fd0064",
   "metadata": {},
   "outputs": [
    {
     "data": {
      "text/plain": [
       "array([11, 22, 33, 44])"
      ]
     },
     "execution_count": 89,
     "metadata": {},
     "output_type": "execute_result"
    }
   ],
   "source": [
    "a = np.array([11,22,33,44])\n",
    "a"
   ]
  },
  {
   "cell_type": "code",
   "execution_count": 92,
   "id": "d0a9f69d",
   "metadata": {},
   "outputs": [
    {
     "data": {
      "text/plain": [
       "array([11, 12, 13, 14, 15, 16, 17, 18, 19, 20, 21, 22, 23, 24, 25, 26, 27,\n",
       "       28, 29, 30, 31, 32, 33, 34, 35, 36, 37, 38, 39, 40, 41, 42, 43])"
      ]
     },
     "execution_count": 92,
     "metadata": {},
     "output_type": "execute_result"
    }
   ],
   "source": [
    "a = np.arange(11,44)\n",
    "a"
   ]
  },
  {
   "cell_type": "code",
   "execution_count": 93,
   "id": "e0d77d80",
   "metadata": {},
   "outputs": [
    {
     "data": {
      "text/plain": [
       "array([11, 22, 33])"
      ]
     },
     "execution_count": 93,
     "metadata": {},
     "output_type": "execute_result"
    }
   ],
   "source": [
    "a = np.arange(11,44,11)\n",
    "a"
   ]
  },
  {
   "cell_type": "code",
   "execution_count": 98,
   "id": "5a88bc42",
   "metadata": {},
   "outputs": [
    {
     "data": {
      "text/plain": [
       "array([11, 44])"
      ]
     },
     "execution_count": 98,
     "metadata": {},
     "output_type": "execute_result"
    }
   ],
   "source": [
    "a = np.array([11, 44])\n",
    "a"
   ]
  },
  {
   "cell_type": "code",
   "execution_count": null,
   "id": "6fb21f18",
   "metadata": {},
   "outputs": [],
   "source": []
  },
  {
   "cell_type": "code",
   "execution_count": null,
   "id": "cb5ba73b",
   "metadata": {},
   "outputs": [],
   "source": []
  },
  {
   "cell_type": "code",
   "execution_count": null,
   "id": "d75b8dc5",
   "metadata": {},
   "outputs": [],
   "source": []
  },
  {
   "cell_type": "code",
   "execution_count": null,
   "id": "8b3cde90",
   "metadata": {},
   "outputs": [],
   "source": []
  }
 ],
 "metadata": {
  "kernelspec": {
   "display_name": "Python 3 (ipykernel)",
   "language": "python",
   "name": "python3"
  },
  "language_info": {
   "codemirror_mode": {
    "name": "ipython",
    "version": 3
   },
   "file_extension": ".py",
   "mimetype": "text/x-python",
   "name": "python",
   "nbconvert_exporter": "python",
   "pygments_lexer": "ipython3",
   "version": "3.11.4"
  }
 },
 "nbformat": 4,
 "nbformat_minor": 5
}
